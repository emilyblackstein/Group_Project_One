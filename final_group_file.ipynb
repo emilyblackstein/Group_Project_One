{
 "cells": [
  {
   "cell_type": "code",
   "execution_count": null,
   "id": "43ff0c29-3cc8-436f-9f93-8e9637c52e58",
   "metadata": {},
   "outputs": [],
   "source": [
    "## Initial imports \n",
    "import pandas as pd\n",
    "from pathlib import Path\n",
    "import os\n",
    "import pygwalker as pyg"
   ]
  },
  {
   "cell_type": "markdown",
   "id": "481182db-1e33-4ba3-acae-c7b3f9058779",
   "metadata": {},
   "source": [
    "## Data Import for Anaysis\n",
    "\n",
    "Read csv files from different sources into  Dataframes and Clean Data"
   ]
  },
  {
   "cell_type": "code",
   "execution_count": null,
   "id": "2a4b88ac-7e20-483f-8d04-b47733b4df8f",
   "metadata": {},
   "outputs": [],
   "source": [
    "#Read the US Dollar Index Historical Data, Group into yearly data, rename columns and clean Data.\n",
    "\n",
    "us_dollar_df = pd.read_csv('./Resources/US_Dollar_Index_Historical_Data_1971-2023.csv')\n",
    "us_dollar_df['Date'] = pd.DatetimeIndex(us_dollar_df['Date']).year\n",
    "us_dollar_df = us_dollar_df.rename(columns = {\"Date\":\"Year\",\"Price\":\"Dollar Price\"})\n",
    "us_dollar_df.head()"
   ]
  },
  {
   "cell_type": "code",
   "execution_count": null,
   "id": "1891c3f3-1a13-483d-b532-a3278f5e4a81",
   "metadata": {},
   "outputs": [],
   "source": [
    "us_dollar_df = us_dollar_df.groupby(\"Year\").mean().round(2)\n",
    "us_dollar_df.head()"
   ]
  },
  {
   "cell_type": "code",
   "execution_count": null,
   "id": "01b322f2-66a0-4a8c-8f9f-7fb7ee761d66",
   "metadata": {},
   "outputs": [],
   "source": [
    "#Read the US Globalization Data, Set Year as index and clean Data.\n",
    "\n",
    "us_globalization_df = pd.read_csv('./Resources/US_Globalization_1971-2021.csv')\n",
    "us_globalization_df = us_globalization_df.set_index('Year').round(2)\n",
    "us_globalization_df.head()"
   ]
  },
  {
   "cell_type": "code",
   "execution_count": null,
   "id": "54748e32-5878-40c7-8f67-48edc01e95e3",
   "metadata": {},
   "outputs": [],
   "source": [
    "#Read the US National Debt Data, Set Year as index and clean Data.\n",
    "\n",
    "us_national = pd.read_csv('./Resources/US_National_Debt_by_the_Year_1971-2023 .csv', encoding='unicode_escape')\n",
    "us_national = us_national.set_index('Year')\n",
    "us_national['DEBT'] = us_national['DEBT'].str.replace(\"$\", \"\")\n",
    "us_national['DEBT'] = us_national['DEBT'].str.replace(\",\", \"\")\n",
    "us_national['DEBT'] = us_national['DEBT'].astype(\"float\")\n",
    "us_national.head()"
   ]
  },
  {
   "cell_type": "code",
   "execution_count": null,
   "id": "1a6d4a15-54c8-4931-b99a-73e40a6524c4",
   "metadata": {},
   "outputs": [],
   "source": [
    "#Read the US Oil Prices 1983 Data, Rename column, Set Year as index and clean Data.\n",
    "\n",
    "us_oil_23 = pd.read_csv('./Resources/US_Oil_Prices_1983-2023.csv', encoding='unicode_escape')\n",
    "us_oil_23 = us_oil_23.rename(columns = {\"Yearly\":\"Year\"}).set_index(\"Year\")\n",
    "us_oil_23.head()"
   ]
  },
  {
   "cell_type": "code",
   "execution_count": null,
   "id": "bc2221bc-8659-4cb3-bf62-ae02fc215796",
   "metadata": {},
   "outputs": [],
   "source": [
    "#Read the US Oil Prices 1971 Data, Set Year as index and clean Data.\n",
    "\n",
    "us_oil_71 = pd.read_csv('./Resources/US_Oil_Prices_1971-2022.csv', encoding='unicode_escape')\n",
    "us_oil_71 = us_oil_71.set_index(\"Year\").rename(columns = {\"Average\":\"Avg Oil Prices\"})\n",
    "us_oil_71['Avg Oil Prices'] = us_oil_71['Avg Oil Prices'].str.replace(\"$\", \"\")\n",
    "us_oil_71['Avg Oil Prices'] = us_oil_71['Avg Oil Prices'].astype(\"float\")\n",
    "us_oil_71.head()"
   ]
  },
  {
   "cell_type": "code",
   "execution_count": null,
   "id": "d8b82e80-0d32-4e04-923d-7764a47ffdb3",
   "metadata": {},
   "outputs": [],
   "source": [
    "#Read the US ResearchandDev Data, Rename column, Set Year as index and clean Data.\n",
    "\n",
    "us_r_and_d_df = pd.read_csv('./Resources/US_ResearchandDev_1971-2023.csv')\n",
    "us_r_and_d_df= us_r_and_d_df.rename(columns = {\"Fiscal Year\":\"Year\"}).set_index(\"Year\")\n",
    "us_r_and_d_df.head()\n"
   ]
  },
  {
   "cell_type": "markdown",
   "id": "7e56f868-782d-4d41-82fa-a48d2cef7a34",
   "metadata": {},
   "source": [
    "## Performance Analysis - 1st Iteration\n",
    "\n",
    "Conduct performance analysis to deduce the correlation between a single Variable (Oil Price) and its impact to the US dollar index"
   ]
  },
  {
   "cell_type": "code",
   "execution_count": null,
   "id": "2feb0838-e762-46be-9f94-60f239dd9d20",
   "metadata": {},
   "outputs": [],
   "source": [
    "# Join the US Dollar index and the Oil Prices dataframe \n",
    "\n",
    "combined_data_df = pd.concat(\n",
    "    [us_dollar_df, us_oil_71], axis='columns', join='inner'\n",
    ")\n",
    "combined_data_df.head()"
   ]
  },
  {
   "cell_type": "code",
   "execution_count": null,
   "id": "a119df99-b455-473f-ad3e-837f63ff565a",
   "metadata": {},
   "outputs": [],
   "source": [
    "# From the combined dataframe extract the two key data points for the analysis\n",
    "\n",
    "combined_data_df = combined_data_df[[\"Dollar Price\", \"Avg Oil Prices\"]]\n",
    "combined_data_df.head()"
   ]
  },
  {
   "cell_type": "code",
   "execution_count": null,
   "id": "23f85926-7415-49b8-9357-887e71e69f2c",
   "metadata": {},
   "outputs": [],
   "source": [
    "combined_data_df.plot()"
   ]
  },
  {
   "cell_type": "code",
   "execution_count": null,
   "id": "21ad1ba5-1bc0-42a8-9e12-183bc012b65a",
   "metadata": {},
   "outputs": [],
   "source": [
    "# Calcuate the percentatge difference YOY for the US Dollar Index and Avg Oil Prices\n",
    "\n",
    "diff_yoy_combined_data_df = combined_data_df.pct_change().dropna()\n",
    "diff_yoy_combined_data_df.head()                                                          "
   ]
  },
  {
   "cell_type": "code",
   "execution_count": null,
   "id": "9f4c50fc-ba50-4a41-962f-1a027ef1b2d8",
   "metadata": {},
   "outputs": [],
   "source": [
    "diff_yoy_combined_data_df.plot(kind=\"bar\", title= \"Diff YoY between Oil Price and Dollar Index\")"
   ]
  },
  {
   "cell_type": "code",
   "execution_count": null,
   "id": "a3a3d94e-10c9-429a-89f9-9843cbf9c50c",
   "metadata": {},
   "outputs": [],
   "source": [
    "# Calculate the correlation between US Index and Oil Price\n",
    "\n",
    "corr_combined_data_df = diff_yoy_combined_data_df.corr()\n",
    "corr_combined_data_df"
   ]
  },
  {
   "cell_type": "code",
   "execution_count": null,
   "id": "34c71b22-3cd6-4866-b82b-9a4d5ba1876d",
   "metadata": {},
   "outputs": [],
   "source": [
    "# Display the correlation matrix\n",
    "\n",
    "import seaborn as sns\n",
    "sns.heatmap(corr_combined_data_df, vmin =-1, vmax = 1)"
   ]
  },
  {
   "cell_type": "code",
   "execution_count": null,
   "id": "ccaef352-b549-4ec4-bfdf-f6dfebedbc02",
   "metadata": {},
   "outputs": [],
   "source": [
    "gwalker = pyg.walk(diff_yoy_combined_data_df)"
   ]
  },
  {
   "cell_type": "markdown",
   "id": "2693165f-d57b-4015-9dc1-83225a00032d",
   "metadata": {},
   "source": [
    " ## Portfolio Analysis"
   ]
  },
  {
   "cell_type": "code",
   "execution_count": null,
   "id": "cae6ff46-8073-41aa-8d16-5d3f9c33ec8f",
   "metadata": {},
   "outputs": [],
   "source": [
    "# import GLD csv\n",
    "gold_df = pd.read_csv('./Resources/GLD.csv', index_col = \"Date\", parse_dates = True, infer_datetime_format = True)\n",
    "gold_df"
   ]
  },
  {
   "cell_type": "code",
   "execution_count": null,
   "id": "64066830-bfff-43c9-ad74-cc5a31f912b6",
   "metadata": {},
   "outputs": [],
   "source": [
    "gold_df = gold_df.drop('Open', axis='columns')\n",
    "gold_df = gold_df.drop('High', axis='columns')\n",
    "gold_df = gold_df.drop('Low', axis='columns')\n",
    "gold_df = gold_df.drop('Adj Close', axis='columns')\n",
    "gold_df = gold_df.drop('Volume', axis='columns')\n",
    "gold_df.rename(columns = {\"Close\" : \"Gold Close\"}, inplace = True)\n",
    "gold_df"
   ]
  },
  {
   "cell_type": "code",
   "execution_count": null,
   "id": "ef3b13a3-7430-479a-8bca-0a8b1275f057",
   "metadata": {},
   "outputs": [],
   "source": [
    "# import CVGI csv\n",
    "cvgi_df = pd.read_csv('./Resources/CVGI.csv', index_col = \"Date\", parse_dates = True, infer_datetime_format = True)\n",
    "cvgi_df"
   ]
  },
  {
   "cell_type": "code",
   "execution_count": null,
   "id": "3c5d3d4d-d8af-4e03-a20e-e82128119225",
   "metadata": {},
   "outputs": [],
   "source": [
    "cvgi_df = cvgi_df.drop('Open', axis='columns')\n",
    "cvgi_df = cvgi_df.drop('High', axis='columns')\n",
    "cvgi_df = cvgi_df.drop('Low', axis='columns')\n",
    "cvgi_df = cvgi_df.drop('Adj Close', axis='columns')\n",
    "cvgi_df = cvgi_df.drop('Volume', axis='columns')\n",
    "cvgi_df.rename(columns = {\"Close\" : \"CVGI Close\"}, inplace = True)\n",
    "cvgi_df"
   ]
  },
  {
   "cell_type": "code",
   "execution_count": null,
   "id": "15e58e97-c881-47b9-8c11-8a363cebe4f3",
   "metadata": {},
   "outputs": [],
   "source": [
    "# import CVRX csv\n",
    "cvrx_df = pd.read_csv('./Resources/CVRX.csv',index_col = \"Date\", parse_dates = True, infer_datetime_format = True)\n",
    "cvrx_df"
   ]
  },
  {
   "cell_type": "code",
   "execution_count": null,
   "id": "7b36dff2-6c9e-465a-ad2a-7a85c3cb1ce8",
   "metadata": {},
   "outputs": [],
   "source": [
    "cvrx_df = cvrx_df.drop('Open', axis='columns')\n",
    "cvrx_df = cvrx_df.drop('High', axis='columns')\n",
    "cvrx_df = cvrx_df.drop('Low', axis='columns')\n",
    "cvrx_df = cvrx_df.drop('Adj Close', axis='columns')\n",
    "cvrx_df = cvrx_df.drop('Volume', axis='columns')\n",
    "cvrx_df.rename(columns = {\"Close\" : \"CVRX Close\"}, inplace = True)\n",
    "cvrx_df"
   ]
  },
  {
   "cell_type": "code",
   "execution_count": null,
   "id": "99e101b7-b856-430a-807f-c3c0d2ebfd3b",
   "metadata": {},
   "outputs": [],
   "source": [
    "# import LIDR csv\n",
    "lidr_df = pd.read_csv('./Resources/LIDR.csv', index_col = \"Date\", parse_dates = True, infer_datetime_format = True)\n",
    "lidr_df"
   ]
  },
  {
   "cell_type": "code",
   "execution_count": null,
   "id": "773557b9-6e2c-48e6-b292-102a9342615d",
   "metadata": {},
   "outputs": [],
   "source": [
    "lidr_df = lidr_df.drop('Open', axis='columns')\n",
    "lidr_df = lidr_df.drop('High', axis='columns')\n",
    "lidr_df = lidr_df.drop('Low', axis='columns')\n",
    "lidr_df = lidr_df.drop('Adj Close', axis='columns')\n",
    "lidr_df = lidr_df.drop('Volume', axis='columns')\n",
    "lidr_df = lidr_df.rename(columns = {\"Close\" : \"LIDR Close\"}, inplace = True)"
   ]
  },
  {
   "cell_type": "code",
   "execution_count": null,
   "id": "be0ced8f-7369-48b8-9340-1cf1595d9bf1",
   "metadata": {},
   "outputs": [],
   "source": [
    "# import APEN csv\n",
    "apen_df = pd.read_csv('./Resources/NFT9816-USD.csv', index_col = \"Date\", parse_dates = True, infer_datetime_format = True)\n",
    "apen_df"
   ]
  },
  {
   "cell_type": "code",
   "execution_count": null,
   "id": "ab3a4942-d3f0-4841-b759-1671e68fe5df",
   "metadata": {},
   "outputs": [],
   "source": [
    "apen_df = apen_df.drop('Open', axis='columns')\n",
    "apen_df = apen_df.drop('High', axis='columns')\n",
    "apen_df = apen_df.drop('Low', axis='columns')\n",
    "apen_df = apen_df.drop('Adj Close', axis='columns')\n",
    "apen_df = apen_df.drop('Volume', axis='columns')\n",
    "apen_df = apen_df.rename(columns = {\"Close\" : \"APEN Close\"}, inplace = True)\n",
    "apen_df"
   ]
  },
  {
   "cell_type": "code",
   "execution_count": null,
   "id": "463c965f-a04d-47d8-bca4-1506b9b907af",
   "metadata": {},
   "outputs": [],
   "source": [
    "# import STIM csv \n",
    "stim_df = pd.read_csv('./Resources/NFT9816-USD.csv', index_col = \"Date\", parse_dates = True, infer_datetime_format = True)\n",
    "stim_df"
   ]
  },
  {
   "cell_type": "code",
   "execution_count": null,
   "id": "382e5803-e1ec-41e3-8135-c4365e4839db",
   "metadata": {},
   "outputs": [],
   "source": [
    "stim_df = stim_df.drop('Open', axis='columns')\n",
    "stim_df = stim_df.drop('High', axis='columns')\n",
    "stim_df = stim_df.drop('Low', axis='columns')\n",
    "stim_df = stim_df.drop('Adj Close', axis='columns')\n",
    "stim_df = stim_df.drop('Volume', axis='columns')\n",
    "stim_df.rename(columns = {\"Close\" : \"STIM Close\"}, inplace = True)\n",
    "\n",
    "\n",
    "stim_df"
   ]
  },
  {
   "cell_type": "code",
   "execution_count": null,
   "id": "88f5d50b-3248-4bed-b423-92d4fa8d75ae",
   "metadata": {},
   "outputs": [],
   "source": [
    "# import TM csv\n",
    "tm_df = pd.read_csv('./Resources/TM.csv', index_col = \"Date\", parse_dates = True, infer_datetime_format = True)\n",
    "tm_df"
   ]
  },
  {
   "cell_type": "code",
   "execution_count": null,
   "id": "3ca0f50e-a4f9-4300-9bb3-f7d0bb7f59d2",
   "metadata": {},
   "outputs": [],
   "source": [
    "tm_df = tm_df.drop('Open', axis='columns')\n",
    "tm_df = tm_df.drop('High', axis='columns')\n",
    "tm_df = tm_df.drop('Low', axis='columns')\n",
    "tm_df = tm_df.drop('Adj Close', axis='columns')\n",
    "tm_df = tm_df.drop('Volume', axis='columns')\n",
    "tm_df.rename(columns = {\"Close\" : \"TM Close\"}, inplace = True)\n",
    "tm_df"
   ]
  },
  {
   "cell_type": "code",
   "execution_count": null,
   "id": "5e9ce5a0-7f72-4b9e-8b37-9682799ed2dc",
   "metadata": {},
   "outputs": [],
   "source": [
    "# import ZYXI csv\n",
    "zyxi_csv = pd.read_csv('./Resources/ZYXI.csv', index_col = \"Date\", parse_dates = True, infer_datetime_format = True)\n",
    "zyxi_csv"
   ]
  },
  {
   "cell_type": "code",
   "execution_count": null,
   "id": "0c5306e1-dbe1-486d-a326-2378b5f4b0ef",
   "metadata": {},
   "outputs": [],
   "source": [
    "zyxi_csv = zyxi_csv.drop('Open', axis='columns')\n",
    "zyxi_csv = zyxi_csv.drop('High', axis='columns')\n",
    "zyxi_csv = zyxi_csv.drop('Low', axis='columns')\n",
    "zyxi_csv = zyxi_csv.drop('Adj Close', axis='columns')\n",
    "zyxi_csv = zyxi_csv.drop('Volume', axis='columns')\n",
    "zyxi_csv.rename(columns = {\"Close\" : \"ZYXI Close\"}, inplace = True)\n",
    "zyxi_csv"
   ]
  },
  {
   "cell_type": "markdown",
   "id": "95fcea0f-f6c6-4092-ac06-463dbe5b85e9",
   "metadata": {},
   "source": [
    "## Daily Returns Combined"
   ]
  },
  {
   "cell_type": "code",
   "execution_count": null,
   "id": "18d9715c-3302-4b95-a7dd-6efd897fc13f",
   "metadata": {},
   "outputs": [],
   "source": [
    "daily_returns_df = pd.concat([cvgi_df, cvrx_df, gold_df, lidr_df, apen_df, stim_df, tm_df, zyxi_csv], axis = 1, join = \"inner\")\n",
    "daily_returns_df"
   ]
  },
  {
   "cell_type": "code",
   "execution_count": null,
   "id": "76b3caca-7bbf-451f-980c-eb0a5168fdcc",
   "metadata": {},
   "outputs": [],
   "source": [
    "daily_returns_df.plot(figsize=(15,5), title ='Daily Returns of Portfolios')"
   ]
  },
  {
   "cell_type": "code",
   "execution_count": null,
   "id": "81c9f402-40bc-420e-9e45-cb0920538f30",
   "metadata": {},
   "outputs": [],
   "source": []
  }
 ],
 "metadata": {
  "kernelspec": {
   "display_name": "Python 3 (ipykernel)",
   "language": "python",
   "name": "python3"
  },
  "language_info": {
   "codemirror_mode": {
    "name": "ipython",
    "version": 3
   },
   "file_extension": ".py",
   "mimetype": "text/x-python",
   "name": "python",
   "nbconvert_exporter": "python",
   "pygments_lexer": "ipython3",
   "version": "3.10.9"
  }
 },
 "nbformat": 4,
 "nbformat_minor": 5
}
